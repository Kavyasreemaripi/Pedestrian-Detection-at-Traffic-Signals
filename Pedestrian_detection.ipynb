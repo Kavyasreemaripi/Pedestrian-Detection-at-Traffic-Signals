{
 "cells": [
  {
   "cell_type": "code",
   "execution_count": 13,
   "id": "c7989c0e-e475-415d-aea2-7b5c74c55fe6",
   "metadata": {},
   "outputs": [],
   "source": [
    "import cv2\n",
    "import numpy as np\n",
    "\n",
    "# Load Haar cascade for full body detection\n",
    "pedestrian_cascade = cv2.CascadeClassifier(cv2.data.haarcascades + 'haarcascade_fullbody.xml')\n",
    "\n",
    "cap = cv2.VideoCapture(\"C:\\\\Users\\\\marip\\\\Downloads\\\\vecteezy_people-crossing-the-road-on-zebra-tallin_28257759.mov\")\n",
    "\n",
    "crosswalk_top_left = (150, 300)\n",
    "crosswalk_bottom_right = (500, 450)\n",
    "\n",
    "while cap.isOpened():\n",
    "    ret, frame = cap.read()\n",
    "    if not ret:\n",
    "        break\n",
    "\n",
    "    # Resize and convert to grayscale\n",
    "    frame = cv2.resize(frame, (640, 480))\n",
    "    gray = cv2.cvtColor(frame, cv2.COLOR_BGR2GRAY)\n",
    "\n",
    "    # Detect pedestrians\n",
    "    pedestrians = pedestrian_cascade.detectMultiScale(gray, 1.1, 4)\n",
    "\n",
    "    # Draw crosswalk area\n",
    "    cv2.rectangle(frame, crosswalk_top_left, crosswalk_bottom_right, (255, 255, 0), 2)\n",
    "    alert_triggered = False\n",
    "\n",
    "    for (x, y, w, h) in pedestrians:\n",
    "        # Draw pedestrian bounding box\n",
    "        cv2.rectangle(frame, (x, y), (x + w, y + h), (0, 255, 0), 2)\n",
    "\n",
    "        # Check if pedestrian is within the crosswalk region\n",
    "        if (crosswalk_top_left[0] < x < crosswalk_bottom_right[0] and\n",
    "                crosswalk_top_left[1] < y + h < crosswalk_bottom_right[1]):\n",
    "            alert_triggered = True\n",
    "\n",
    "    # Show alert if pedestrian in crosswalk\n",
    "    if alert_triggered:\n",
    "        cv2.putText(frame, \"ALERT: Crosswalk Occupied!\", (50, 50),\n",
    "                    cv2.FONT_HERSHEY_SIMPLEX, 1, (0, 0, 255), 3)\n",
    "        # Optional: play sound alert with playsound or winsound\n",
    "\n",
    "    # Display frame\n",
    "    cv2.imshow('Pedestrian Detection with Crosswalk Alert', frame)\n",
    "\n",
    "    if cv2.waitKey(1) & 0xFF == ord('q'):\n",
    "        break\n",
    "\n",
    "cap.release()\n",
    "cv2.destroyAllWindows()\n"
   ]
  },
  {
   "cell_type": "code",
   "execution_count": null,
   "id": "75e9520a-6612-4da8-ac50-f41ddb2e60ed",
   "metadata": {},
   "outputs": [],
   "source": []
  },
  {
   "cell_type": "code",
   "execution_count": null,
   "id": "c0c10d2f-6cfb-484b-b3f7-3e9b32692e8e",
   "metadata": {},
   "outputs": [],
   "source": []
  }
 ],
 "metadata": {
  "kernelspec": {
   "display_name": "Python 3 (ipykernel)",
   "language": "python",
   "name": "python3"
  },
  "language_info": {
   "codemirror_mode": {
    "name": "ipython",
    "version": 3
   },
   "file_extension": ".py",
   "mimetype": "text/x-python",
   "name": "python",
   "nbconvert_exporter": "python",
   "pygments_lexer": "ipython3",
   "version": "3.9.19"
  }
 },
 "nbformat": 4,
 "nbformat_minor": 5
}
